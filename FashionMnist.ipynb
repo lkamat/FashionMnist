{
  "nbformat": 4,
  "nbformat_minor": 0,
  "metadata": {
    "colab": {
      "name": "FashionMnist.ipynb",
      "version": "0.3.2",
      "provenance": [],
      "collapsed_sections": []
    },
    "kernelspec": {
      "name": "python3",
      "display_name": "Python 3"
    },
    "accelerator": "GPU"
  },
  "cells": [
    {
      "cell_type": "markdown",
      "metadata": {
        "id": "view-in-github",
        "colab_type": "text"
      },
      "source": [
        "[View in Colaboratory](https://colab.research.google.com/github/lkamat/FashionMnist/blob/master/FashionMnist.ipynb)"
      ]
    },
    {
      "metadata": {
        "id": "CJ64IKyiUvif",
        "colab_type": "text"
      },
      "cell_type": "markdown",
      "source": [
        "## Import the libraries"
      ]
    },
    {
      "metadata": {
        "id": "hQXLnoCzU1Uh",
        "colab_type": "code",
        "colab": {
          "base_uri": "https://localhost:8080/",
          "height": 34
        },
        "outputId": "2234b7f6-2f6e-422a-acc2-09d96d51e927"
      },
      "cell_type": "code",
      "source": [
        "from __future__ import print_function\n",
        "\n",
        "import keras\n",
        "from keras import backend as K\n",
        "from keras.datasets import fashion_mnist\n",
        "from keras.models import Sequential\n",
        "from keras.layers import Dense, Dropout, Conv2D, MaxPooling2D, Flatten\n",
        "from keras.optimizers import RMSprop\n",
        "from keras.optimizers import SGD\n",
        "from keras.optimizers import Adam\n",
        "from keras.losses import categorical_crossentropy\n",
        "from keras.callbacks import ModelCheckpoint\n",
        "import matplotlib.pyplot as plt\n",
        "import numpy as np\n",
        "%matplotlib inline"
      ],
      "execution_count": 2,
      "outputs": [
        {
          "output_type": "stream",
          "text": [
            "Using TensorFlow backend.\n"
          ],
          "name": "stderr"
        }
      ]
    },
    {
      "metadata": {
        "id": "3EiSH2S7VsPd",
        "colab_type": "text"
      },
      "cell_type": "markdown",
      "source": [
        "## Load the Fashion Mnist data and do the pre-processing"
      ]
    },
    {
      "metadata": {
        "id": "fUL9ONEkVy0U",
        "colab_type": "code",
        "colab": {
          "base_uri": "https://localhost:8080/",
          "height": 68
        },
        "outputId": "cb32f589-7cb5-4b0e-c489-c5320c52df17"
      },
      "cell_type": "code",
      "source": [
        "# Load the train and test data. There are 60,000 images in the train data set and 10,000 in the test dataset\n",
        "\n",
        "(x_train, y_train), (x_test, y_test) = fashion_mnist.load_data()\n",
        "\n",
        "# Print training set shape - note there are 60,000 training data of image size of 28x28, 60,000 train labels)\n",
        "print(\"x_train shape:\", x_train.shape, \"y_train shape:\", y_train.shape)\n",
        "\n",
        "# Print the number of training and test datasets\n",
        "print(x_train.shape[0], 'train set')\n",
        "print(x_test.shape[0], 'test set')"
      ],
      "execution_count": 3,
      "outputs": [
        {
          "output_type": "stream",
          "text": [
            "x_train shape: (60000, 28, 28) y_train shape: (60000,)\n",
            "60000 train set\n",
            "10000 test set\n"
          ],
          "name": "stdout"
        }
      ]
    },
    {
      "metadata": {
        "id": "31_jSqt3YjXz",
        "colab_type": "text"
      },
      "cell_type": "markdown",
      "source": [
        "## Visualize the data"
      ]
    },
    {
      "metadata": {
        "id": "2N96tTyoYpmi",
        "colab_type": "code",
        "colab": {
          "base_uri": "https://localhost:8080/",
          "height": 299
        },
        "outputId": "c7c15c7b-8066-48bb-b4f7-9a9a4cfc640c"
      },
      "cell_type": "code",
      "source": [
        "# Define the text labels\n",
        "fashion_mnist_labels = [\"T-shirt/top\",  # index 0\n",
        "                        \"Trouser\",      # index 1\n",
        "                        \"Pullover\",     # index 2 \n",
        "                        \"Dress\",        # index 3 \n",
        "                        \"Coat\",         # index 4\n",
        "                        \"Sandal\",       # index 5\n",
        "                        \"Shirt\",        # index 6 \n",
        "                        \"Sneaker\",      # index 7 \n",
        "                        \"Bag\",          # index 8 \n",
        "                        \"Ankle boot\"]   # index 9\n",
        "\n",
        "# Image index, you can pick any number between 0 and 59,999\n",
        "img_index = 9\n",
        "# y_train contains the lables, ranging from 0 to 9\n",
        "label_index = y_train[img_index]\n",
        "# Print the label, for example 2 Pullover\n",
        "print (str(label_index) + \",\" + fashion_mnist_labels[label_index])\n",
        "# # Show one of the images from the training dataset\n",
        "plt.imshow(x_train[img_index])"
      ],
      "execution_count": 4,
      "outputs": [
        {
          "output_type": "stream",
          "text": [
            "5,Sandal\n"
          ],
          "name": "stdout"
        },
        {
          "output_type": "execute_result",
          "data": {
            "text/plain": [
              "<matplotlib.image.AxesImage at 0x7f3108611320>"
            ]
          },
          "metadata": {
            "tags": []
          },
          "execution_count": 4
        },
        {
          "output_type": "display_data",
          "data": {
            "image/png": "[encoded data removed]",
            "text/plain": [
              "<matplotlib.figure.Figure at 0x7f310a691b70>"
            ]
          },
          "metadata": {
            "tags": []
          }
        }
      ]
    },
    {
      "metadata": {
        "id": "_PC38xebY0gO",
        "colab_type": "code",
        "colab": {
          "base_uri": "https://localhost:8080/",
          "height": 615
        },
        "outputId": "c9532791-8b4a-475f-e470-b5e972b35d88"
      },
      "cell_type": "code",
      "source": [
        "#print some sample data\n",
        "print (y_train[3000])\n",
        "fig= plt.figure()\n",
        "plt.imshow(x_train[3000], cmap='gray')\n",
        "\n",
        "\n",
        "fig= plt.figure(figsize=(20,10))\n",
        "for i in range (1,25):\n",
        "    ax1 = fig.add_subplot(5,8,i)\n",
        "    plt.xticks([], [])\n",
        "    plt.yticks([], [])\n",
        "    ax1.imshow(x_train[i], cmap='gray')\n",
        " "
      ],
      "execution_count": 5,
      "outputs": [
        {
          "output_type": "stream",
          "text": [
            "6\n"
          ],
          "name": "stdout"
        },
        {
          "output_type": "display_data",
          "data": {
            "image/png": "[encoded data removed]",
            "text/plain": [
              "<matplotlib.figure.Figure at 0x7f3108650e10>"
            ]
          },
          "metadata": {
            "tags": []
          }
        },
        {
          "output_type": "display_data",
          "data": {
            "image/png": "[encoded data removed]",
            "text/plain": [
              "<matplotlib.figure.Figure at 0x7f31085c25f8>"
            ]
          },
          "metadata": {
            "tags": []
          }
        }
      ]
    },
    {
      "metadata": {
        "id": "3a9z3SGRZjCZ",
        "colab_type": "text"
      },
      "cell_type": "markdown",
      "source": [
        "## Validation data, Data Normalization"
      ]
    },
    {
      "metadata": {
        "id": "Hq7a9YyFZZl1",
        "colab_type": "code",
        "colab": {
          "base_uri": "https://localhost:8080/",
          "height": 85
        },
        "outputId": "4a25435d-f62b-4940-af55-8db730bb157e"
      },
      "cell_type": "code",
      "source": [
        "# Further break training data into train / validation sets (# put 5000 into validation set and keep remaining 55,000 for train)\n",
        "(x_train, x_valid) = x_train[5000:], x_train[:5000] \n",
        "(y_train, y_valid) = y_train[5000:], y_train[:5000]\n",
        "\n",
        "# Reshape input data from (28, 28) to (28, 28, 1)\n",
        "\n",
        "img_rows, img_cols = 28, 28\n",
        "num_classes = 10\n",
        "\n",
        "x_train = x_train.reshape(x_train.shape[0], img_rows, img_cols, 1)\n",
        "x_valid = x_valid.reshape(x_valid.shape[0], img_rows, img_cols, 1)\n",
        "x_test = x_test.reshape(x_test.shape[0], img_rows, img_cols, 1)\n",
        "\n",
        "input_shape = (img_rows, img_cols, 1)\n",
        "\n",
        "x_train = x_train.astype('float32')\n",
        "x_valid = x_valid.astype('float32')\n",
        "x_test = x_test.astype('float32')\n",
        "x_train /= 255\n",
        "x_valid /= 255\n",
        "x_test /= 255\n",
        "\n",
        "print('x_train shape:', x_train.shape)\n",
        "print(x_train.shape[0], 'train samples')\n",
        "print(x_valid.shape[0], 'valid samples')\n",
        "print(x_test.shape[0], 'test samples')\n",
        "\n",
        "# convert class vectors to binary class matrices\n",
        "y_train = keras.utils.to_categorical(y_train, num_classes)\n",
        "y_valid = keras.utils.to_categorical(y_valid, num_classes)\n",
        "y_test = keras.utils.to_categorical(y_test, num_classes)\n"
      ],
      "execution_count": 6,
      "outputs": [
        {
          "output_type": "stream",
          "text": [
            "x_train shape: (55000, 28, 28, 1)\n",
            "55000 train samples\n",
            "5000 valid samples\n",
            "10000 test samples\n"
          ],
          "name": "stdout"
        }
      ]
    },
    {
      "metadata": {
        "id": "Lm5OOQf8aDIM",
        "colab_type": "text"
      },
      "cell_type": "markdown",
      "source": [
        "## Build the model architecture"
      ]
    },
    {
      "metadata": {
        "id": "9dSe5xbFZzl0",
        "colab_type": "code",
        "colab": {}
      },
      "cell_type": "code",
      "source": [
        "#Model Building\n",
        "\n",
        "model = Sequential()\n",
        "model.add(Conv2D(32, kernel_size=(3, 3),\n",
        "                 activation='relu',\n",
        "                 input_shape=input_shape))\n",
        "model.add(Conv2D(64, (3, 3), activation='relu'))\n",
        "model.add(MaxPooling2D(pool_size=(2, 2)))\n",
        "model.add(Dropout(0.25))\n",
        "model.add(Flatten())\n",
        "model.add(Dense(128, activation='relu'))\n",
        "model.add(Dropout(0.5))\n",
        "model.add(Dense(num_classes, activation='softmax'))\n"
      ],
      "execution_count": 0,
      "outputs": []
    },
    {
      "metadata": {
        "id": "3FzPT753bB30",
        "colab_type": "text"
      },
      "cell_type": "markdown",
      "source": [
        "## Compile the model\n",
        "We use model.compile() to configure the learning process before training the model. This is where you define the type of loss function, optimizer and the metrics evaluated by the model during training and testing."
      ]
    },
    {
      "metadata": {
        "id": "LH2Ar1rsaO18",
        "colab_type": "code",
        "colab": {}
      },
      "cell_type": "code",
      "source": [
        "model.compile(loss='categorical_crossentropy',\n",
        "              optimizer='adam',\n",
        "              metrics=['accuracy'])\n"
      ],
      "execution_count": 0,
      "outputs": []
    },
    {
      "metadata": {
        "id": "Qaj-TTMObOLS",
        "colab_type": "text"
      },
      "cell_type": "markdown",
      "source": [
        "##Train the model\n",
        "We will train the model with a batch_size of 64 and 10 epochs.\n",
        "\n"
      ]
    },
    {
      "metadata": {
        "id": "FVvBELZ4a5GX",
        "colab_type": "code",
        "colab": {}
      },
      "cell_type": "code",
      "source": [
        "# Add the modelcheckpoint to save the best weights used during validation data\n",
        "checkpointer = ModelCheckpoint(filepath='model.weights.best.hdf5', verbose = 1, save_best_only=True)"
      ],
      "execution_count": 0,
      "outputs": []
    },
    {
      "metadata": {
        "id": "fiBChsu3b5VP",
        "colab_type": "code",
        "colab": {
          "base_uri": "https://localhost:8080/",
          "height": 1411
        },
        "outputId": "49771e5a-106d-4175-b2eb-f333a5c66ee8"
      },
      "cell_type": "code",
      "source": [
        "## train the model with batch_size of 128, epochs of 20\n",
        "model.fit(x_train,\n",
        "         y_train,\n",
        "         batch_size=128,\n",
        "         epochs=20,\n",
        "         verbose=1,\n",
        "         validation_data=(x_valid, y_valid),\n",
        "         callbacks=[checkpointer])"
      ],
      "execution_count": 10,
      "outputs": [
        {
          "output_type": "stream",
          "text": [
            "Train on 55000 samples, validate on 5000 samples\n",
            "Epoch 1/20\n",
            "55000/55000 [==============================] - 10s 190us/step - loss: 0.5496 - acc: 0.8068 - val_loss: 0.3293 - val_acc: 0.8804\n",
            "\n",
            "Epoch 00001: val_loss improved from inf to 0.32932, saving model to model.weights.best.hdf5\n",
            "Epoch 2/20\n",
            "55000/55000 [==============================] - 9s 164us/step - loss: 0.3572 - acc: 0.8718 - val_loss: 0.2744 - val_acc: 0.9032\n",
            "\n",
            "Epoch 00002: val_loss improved from 0.32932 to 0.27442, saving model to model.weights.best.hdf5\n",
            "Epoch 3/20\n",
            "15104/55000 [=======>......................] - ETA: 6s - loss: 0.3135 - acc: 0.8852"
          ],
          "name": "stdout"
        },
        {
          "output_type": "stream",
          "text": [
            "55000/55000 [==============================] - 9s 162us/step - loss: 0.3091 - acc: 0.8876 - val_loss: 0.2553 - val_acc: 0.9054\n",
            "\n",
            "Epoch 00003: val_loss improved from 0.27442 to 0.25529, saving model to model.weights.best.hdf5\n",
            "Epoch 4/20\n",
            "55000/55000 [==============================] - 9s 162us/step - loss: 0.2735 - acc: 0.9001 - val_loss: 0.2317 - val_acc: 0.9132\n",
            "\n",
            "Epoch 00004: val_loss improved from 0.25529 to 0.23169, saving model to model.weights.best.hdf5\n",
            "Epoch 5/20\n",
            "30592/55000 [===============>..............] - ETA: 3s - loss: 0.2498 - acc: 0.9094"
          ],
          "name": "stdout"
        },
        {
          "output_type": "stream",
          "text": [
            "55000/55000 [==============================] - 9s 162us/step - loss: 0.2500 - acc: 0.9089 - val_loss: 0.2179 - val_acc: 0.9224\n",
            "\n",
            "Epoch 00005: val_loss improved from 0.23169 to 0.21788, saving model to model.weights.best.hdf5\n",
            "Epoch 6/20\n",
            "55000/55000 [==============================] - 9s 161us/step - loss: 0.2300 - acc: 0.9139 - val_loss: 0.2207 - val_acc: 0.9200\n",
            "\n",
            "Epoch 00006: val_loss did not improve from 0.21788\n",
            "Epoch 7/20\n",
            "36224/55000 [==================>...........] - ETA: 2s - loss: 0.2137 - acc: 0.9205"
          ],
          "name": "stdout"
        },
        {
          "output_type": "stream",
          "text": [
            "55000/55000 [==============================] - 9s 161us/step - loss: 0.2139 - acc: 0.9208 - val_loss: 0.2055 - val_acc: 0.9278\n",
            "\n",
            "Epoch 00007: val_loss improved from 0.21788 to 0.20545, saving model to model.weights.best.hdf5\n",
            "Epoch 8/20\n",
            "55000/55000 [==============================] - 9s 161us/step - loss: 0.1985 - acc: 0.9272 - val_loss: 0.1988 - val_acc: 0.9282\n",
            "\n",
            "Epoch 00008: val_loss improved from 0.20545 to 0.19884, saving model to model.weights.best.hdf5\n",
            "Epoch 9/20\n",
            "34176/55000 [=================>............] - ETA: 3s - loss: 0.1808 - acc: 0.9328"
          ],
          "name": "stdout"
        },
        {
          "output_type": "stream",
          "text": [
            "55000/55000 [==============================] - 9s 162us/step - loss: 0.1816 - acc: 0.9325 - val_loss: 0.1934 - val_acc: 0.9302\n",
            "\n",
            "Epoch 00009: val_loss improved from 0.19884 to 0.19343, saving model to model.weights.best.hdf5\n",
            "Epoch 10/20\n",
            "55000/55000 [==============================] - 9s 161us/step - loss: 0.1712 - acc: 0.9362 - val_loss: 0.1966 - val_acc: 0.9274\n",
            "\n",
            "Epoch 00010: val_loss did not improve from 0.19343\n",
            "Epoch 11/20\n",
            "36608/55000 [==================>...........] - ETA: 2s - loss: 0.1626 - acc: 0.9387"
          ],
          "name": "stdout"
        },
        {
          "output_type": "stream",
          "text": [
            "55000/55000 [==============================] - 9s 162us/step - loss: 0.1610 - acc: 0.9394 - val_loss: 0.1984 - val_acc: 0.9330\n",
            "\n",
            "Epoch 00011: val_loss did not improve from 0.19343\n",
            "Epoch 12/20\n",
            "55000/55000 [==============================] - 9s 162us/step - loss: 0.1466 - acc: 0.9445 - val_loss: 0.1960 - val_acc: 0.9336\n",
            "\n",
            "Epoch 00012: val_loss did not improve from 0.19343\n",
            "Epoch 13/20\n",
            "46080/55000 [========================>.....] - ETA: 1s - loss: 0.1436 - acc: 0.9465"
          ],
          "name": "stdout"
        },
        {
          "output_type": "stream",
          "text": [
            "55000/55000 [==============================] - 9s 161us/step - loss: 0.1421 - acc: 0.9467 - val_loss: 0.2033 - val_acc: 0.9284\n",
            "\n",
            "Epoch 00013: val_loss did not improve from 0.19343\n",
            "Epoch 14/20\n",
            "55000/55000 [==============================] - 9s 161us/step - loss: 0.1308 - acc: 0.9493 - val_loss: 0.2028 - val_acc: 0.9348\n",
            "\n",
            "Epoch 00014: val_loss did not improve from 0.19343\n",
            "Epoch 15/20\n",
            "47744/55000 [=========================>....] - ETA: 1s - loss: 0.1252 - acc: 0.9522"
          ],
          "name": "stdout"
        },
        {
          "output_type": "stream",
          "text": [
            "55000/55000 [==============================] - 9s 161us/step - loss: 0.1259 - acc: 0.9523 - val_loss: 0.2026 - val_acc: 0.9332\n",
            "\n",
            "Epoch 00015: val_loss did not improve from 0.19343\n",
            "Epoch 16/20\n",
            "55000/55000 [==============================] - 9s 162us/step - loss: 0.1169 - acc: 0.9561 - val_loss: 0.2021 - val_acc: 0.9344\n",
            "\n",
            "Epoch 00016: val_loss did not improve from 0.19343\n",
            "Epoch 17/20\n",
            "47744/55000 [=========================>....] - ETA: 1s - loss: 0.1123 - acc: 0.9578"
          ],
          "name": "stdout"
        },
        {
          "output_type": "stream",
          "text": [
            "55000/55000 [==============================] - 9s 162us/step - loss: 0.1126 - acc: 0.9579 - val_loss: 0.2200 - val_acc: 0.9322\n",
            "\n",
            "Epoch 00017: val_loss did not improve from 0.19343\n",
            "Epoch 18/20\n",
            "55000/55000 [==============================] - 9s 162us/step - loss: 0.1094 - acc: 0.9590 - val_loss: 0.2193 - val_acc: 0.9336\n",
            "\n",
            "Epoch 00018: val_loss did not improve from 0.19343\n",
            "Epoch 19/20\n",
            "47744/55000 [=========================>....] - ETA: 1s - loss: 0.1034 - acc: 0.9602"
          ],
          "name": "stdout"
        },
        {
          "output_type": "stream",
          "text": [
            "55000/55000 [==============================] - 9s 161us/step - loss: 0.1039 - acc: 0.9601 - val_loss: 0.2147 - val_acc: 0.9322\n",
            "\n",
            "Epoch 00019: val_loss did not improve from 0.19343\n",
            "Epoch 20/20\n",
            "55000/55000 [==============================] - 9s 161us/step - loss: 0.0960 - acc: 0.9632 - val_loss: 0.2140 - val_acc: 0.9334\n",
            "\n",
            "Epoch 00020: val_loss did not improve from 0.19343\n"
          ],
          "name": "stdout"
        },
        {
          "output_type": "execute_result",
          "data": {
            "text/plain": [
              "<keras.callbacks.History at 0x7f3107671198>"
            ]
          },
          "metadata": {
            "tags": []
          },
          "execution_count": 10
        }
      ]
    },
    {
      "metadata": {
        "id": "4t5V2vdCdjAr",
        "colab_type": "text"
      },
      "cell_type": "markdown",
      "source": [
        "#Load model with best validation accuracy"
      ]
    },
    {
      "metadata": {
        "id": "jB8UbFekcWHo",
        "colab_type": "code",
        "colab": {}
      },
      "cell_type": "code",
      "source": [
        "# Load the weights with the best validation accuracy\n",
        "model.load_weights('model.weights.best.hdf5')"
      ],
      "execution_count": 0,
      "outputs": []
    },
    {
      "metadata": {
        "id": "h5HeOuJ3dsZJ",
        "colab_type": "text"
      },
      "cell_type": "markdown",
      "source": [
        "#Test accuracy"
      ]
    },
    {
      "metadata": {
        "id": "Ub91JD0ydpfu",
        "colab_type": "code",
        "colab": {
          "base_uri": "https://localhost:8080/",
          "height": 68
        },
        "outputId": "68baa306-3a89-4280-bd5d-2a0e2a2a9399"
      },
      "cell_type": "code",
      "source": [
        "# Evaluate the model on test set\n",
        "score = model.evaluate(x_test, y_test, verbose=0)\n",
        "\n",
        "\n",
        "\n",
        "# Print test loss\n",
        "print('Test loss:', score[0])\n",
        "\n",
        "# Print test accuracy\n",
        "print('\\n', 'Test accuracy:', score[1])"
      ],
      "execution_count": 12,
      "outputs": [
        {
          "output_type": "stream",
          "text": [
            "Test loss: 0.21502940386533737\n",
            "\n",
            " Test accuracy: 0.9247\n"
          ],
          "name": "stdout"
        }
      ]
    },
    {
      "metadata": {
        "id": "hAbgzE3_d2k9",
        "colab_type": "text"
      },
      "cell_type": "markdown",
      "source": [
        "# Visualize prediction\n",
        "Visualize the prediction using the trained model.  First we get the predictions with the model from the test data. Then we print out 15 images from the test data set, and set the titles with the prediction (and the groud truth label). If the prediction matches the true label, the title will be green; otherwise it's displayed in red."
      ]
    },
    {
      "metadata": {
        "id": "GjNWz5pEdxym",
        "colab_type": "code",
        "colab": {
          "base_uri": "https://localhost:8080/",
          "height": 481
        },
        "outputId": "6725e23f-07d7-4198-9e64-ed813328138e"
      },
      "cell_type": "code",
      "source": [
        "y_hat = model.predict(x_test)\n",
        "import numpy as np\n",
        "\n",
        "# Plot a random sample of 10 test images, their predicted labels and ground truth\n",
        "figure = plt.figure(figsize=(20, 8))\n",
        "for i, index in enumerate(np.random.choice(x_test.shape[0], size=15, replace=False)):\n",
        "    ax = figure.add_subplot(3, 5, i + 1, xticks=[], yticks=[])\n",
        "    # Display each image\n",
        "    ax.imshow(np.squeeze(x_test[index]))\n",
        "    predict_index = np.argmax(y_hat[index])\n",
        "    true_index = np.argmax(y_test[index])\n",
        "    # Set the title for each image\n",
        "    ax.set_title(\"{} ({})\".format(fashion_mnist_labels[predict_index], \n",
        "                                  fashion_mnist_labels[true_index]),\n",
        "                                  color=(\"green\" if predict_index == true_index else \"red\"))"
      ],
      "execution_count": 14,
      "outputs": [
        {
          "output_type": "display_data",
          "data": {
            "image/png": "[encoded data removed]",
            "text/plain": [
              "<matplotlib.figure.Figure at 0x7f3107fe0e10>"
            ]
          },
          "metadata": {
            "tags": []
          }
        }
      ]
    },
    {
      "metadata": {
        "id": "umaZ6xtgeUWq",
        "colab_type": "code",
        "colab": {}
      },
      "cell_type": "code",
      "source": [
        ""
      ],
      "execution_count": 0,
      "outputs": []
    }
  ]
}