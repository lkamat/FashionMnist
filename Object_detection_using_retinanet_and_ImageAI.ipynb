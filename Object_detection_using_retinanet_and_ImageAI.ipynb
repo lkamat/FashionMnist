{
  "nbformat": 4,
  "nbformat_minor": 0,
  "metadata": {
    "colab": {
      "name": "Object_detection using retinanet and ImageAI.ipynb",
      "version": "0.3.2",
      "provenance": [],
      "include_colab_link": true
    },
    "kernelspec": {
      "name": "python3",
      "display_name": "Python 3"
    },
    "accelerator": "GPU"
  },
  "cells": [
    {
      "cell_type": "markdown",
      "metadata": {
        "id": "view-in-github",
        "colab_type": "text"
      },
      "source": [
        "[View in Colaboratory](https://colab.research.google.com/github/lkamat/deeplearning/blob/master/Object_detection_using_retinanet_and_ImageAI.ipynb)"
      ]
    },
    {
      "metadata": {
        "id": "poJ6C8bHSDdG",
        "colab_type": "code",
        "colab": {}
      },
      "cell_type": "code",
      "source": [
        "# import keras\n",
        "import keras\n",
        "from imageai.Detection import ObjectDetection\n",
        "import os\n",
        "import time\n",
        "import numpy as np\n",
        "import cv2\n",
        "\n",
        "# set tf backend to allow memory to grow, instead of claiming everything\n",
        "import tensorflow as tf"
      ],
      "execution_count": 0,
      "outputs": []
    },
    {
      "metadata": {
        "id": "zde1gjWTYPpc",
        "colab_type": "code",
        "colab": {}
      },
      "cell_type": "code",
      "source": [
        "#!pip3 install https://github.com/OlafenwaMoses/ImageAI/releases/download/2.0.1/imageai-2.0.1-py3-none-any.whl \n",
        "\n"
      ],
      "execution_count": 0,
      "outputs": []
    },
    {
      "metadata": {
        "id": "E-e2floxWuWg",
        "colab_type": "code",
        "colab": {
          "base_uri": "https://localhost:8080/",
          "height": 272
        },
        "outputId": "0f927341-83f1-4a3d-f5b8-36444b8cbead"
      },
      "cell_type": "code",
      "source": [
        "# adjust this to point to your downloaded/trained model\n",
        "execution_path = os.getcwd()\n",
        "#print(execution_path)\n",
        "detector = ObjectDetection()\n",
        "detector.setModelTypeAsRetinaNet()\n",
        "detector.setModelPath( os.path.join(execution_path , \"resnet50_coco_best_v2.0.1.h5\"))\n",
        "detector.loadModel()\n",
        "detections = detector.detectObjectsFromImage(input_image=os.path.join(execution_path , \"objdetection.jpg\"), output_image_path=os.path.join(execution_path , \"objdetectionnew.jpg\"))\n",
        "\n",
        "for eachObject in detections:\n",
        "    print(eachObject[\"name\"] + \" : \" + eachObject[\"percentage_probability\"] )"
      ],
      "execution_count": 20,
      "outputs": [
        {
          "output_type": "stream",
          "text": [
            "car : 51.42211318016052\n",
            "car : 56.08486533164978\n",
            "person : 50.09181499481201\n",
            "car : 75.15214681625366\n",
            "person : 58.131247758865356\n",
            "backpack : 54.95791435241699\n",
            "car : 51.63785219192505\n",
            "car : 53.37285399436951\n",
            "person : 55.28630614280701\n",
            "person : 68.30747723579407\n",
            "person : 77.59896516799927\n",
            "person : 94.78306174278259\n",
            "car : 88.88269066810608\n",
            "person : 78.95943522453308\n",
            "car : 56.96592330932617\n"
          ],
          "name": "stdout"
        }
      ]
    },
    {
      "metadata": {
        "id": "Ge7kDc5xxgjw",
        "colab_type": "code",
        "colab": {
          "base_uri": "https://localhost:8080/",
          "height": 306
        },
        "outputId": "fe9a90ed-397c-4156-9263-69e361f08ca9"
      },
      "cell_type": "code",
      "source": [
        "\n",
        "from time import time\n",
        "our_time = time()\n",
        "custom_objects = detector.CustomObjects(car=True, backpack=True)\n",
        "detections = detector.detectCustomObjectsFromImage(custom_objects=custom_objects, input_image=os.path.join(execution_path , \"objdetection.jpg\"), output_image_path=os.path.join(execution_path , \"objdetectioncustom.jpg\"))\n",
        "print(\"IT TOOK : \", time() - our_time)\n",
        "for eachObject in detections:\n",
        "    print(eachObject[\"name\"] + \" : \" + eachObject[\"percentage_probability\"] )\n",
        "    print(\"--------------------------------\")"
      ],
      "execution_count": 22,
      "outputs": [
        {
          "output_type": "stream",
          "text": [
            "IT TOOK :  9.200515985488892\n",
            "car : 51.42211318016052\n",
            "--------------------------------\n",
            "car : 56.08486533164978\n",
            "--------------------------------\n",
            "car : 75.15214681625366\n",
            "--------------------------------\n",
            "backpack : 54.95791435241699\n",
            "--------------------------------\n",
            "car : 51.63785219192505\n",
            "--------------------------------\n",
            "car : 53.37285399436951\n",
            "--------------------------------\n",
            "car : 88.88269066810608\n",
            "--------------------------------\n",
            "car : 56.96592330932617\n",
            "--------------------------------\n"
          ],
          "name": "stdout"
        }
      ]
    }
  ]
}